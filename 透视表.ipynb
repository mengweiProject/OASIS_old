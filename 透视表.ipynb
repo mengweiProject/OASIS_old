{
 "cells": [
  {
   "cell_type": "code",
   "execution_count": null,
   "id": "0d8e181b",
   "metadata": {},
   "outputs": [],
   "source": []
  },
  {
   "cell_type": "code",
   "execution_count": 4,
   "id": "d4e47d1a",
   "metadata": {},
   "outputs": [],
   "source": [
    "import sys"
   ]
  },
  {
   "cell_type": "code",
   "execution_count": 5,
   "id": "02092d4c",
   "metadata": {},
   "outputs": [],
   "source": [
    "sys.path.append('.')"
   ]
  },
  {
   "cell_type": "code",
   "execution_count": 7,
   "id": "9a5a355f",
   "metadata": {},
   "outputs": [],
   "source": [
    "import DAO"
   ]
  },
  {
   "cell_type": "code",
   "execution_count": 8,
   "id": "dbb34425",
   "metadata": {},
   "outputs": [],
   "source": [
    "import numpy as np"
   ]
  },
  {
   "cell_type": "code",
   "execution_count": 9,
   "id": "d310e2c9",
   "metadata": {},
   "outputs": [],
   "source": [
    "import pandas as pd"
   ]
  },
  {
   "cell_type": "code",
   "execution_count": 10,
   "id": "734d31a0",
   "metadata": {},
   "outputs": [],
   "source": [
    "df1 = pd.DataFrame(np.arange(30).reshape(5, 6), columns=list('ABCDEF'), index=list('abcde'))"
   ]
  },
  {
   "cell_type": "code",
   "execution_count": 11,
   "id": "79b780d3",
   "metadata": {},
   "outputs": [
    {
     "data": {
      "text/html": [
       "<div>\n",
       "<style scoped>\n",
       "    .dataframe tbody tr th:only-of-type {\n",
       "        vertical-align: middle;\n",
       "    }\n",
       "\n",
       "    .dataframe tbody tr th {\n",
       "        vertical-align: top;\n",
       "    }\n",
       "\n",
       "    .dataframe thead th {\n",
       "        text-align: right;\n",
       "    }\n",
       "</style>\n",
       "<table border=\"1\" class=\"dataframe\">\n",
       "  <thead>\n",
       "    <tr style=\"text-align: right;\">\n",
       "      <th></th>\n",
       "      <th>A</th>\n",
       "      <th>B</th>\n",
       "      <th>C</th>\n",
       "      <th>D</th>\n",
       "      <th>E</th>\n",
       "      <th>F</th>\n",
       "    </tr>\n",
       "  </thead>\n",
       "  <tbody>\n",
       "    <tr>\n",
       "      <th>a</th>\n",
       "      <td>0</td>\n",
       "      <td>1</td>\n",
       "      <td>2</td>\n",
       "      <td>3</td>\n",
       "      <td>4</td>\n",
       "      <td>5</td>\n",
       "    </tr>\n",
       "    <tr>\n",
       "      <th>b</th>\n",
       "      <td>6</td>\n",
       "      <td>7</td>\n",
       "      <td>8</td>\n",
       "      <td>9</td>\n",
       "      <td>10</td>\n",
       "      <td>11</td>\n",
       "    </tr>\n",
       "    <tr>\n",
       "      <th>c</th>\n",
       "      <td>12</td>\n",
       "      <td>13</td>\n",
       "      <td>14</td>\n",
       "      <td>15</td>\n",
       "      <td>16</td>\n",
       "      <td>17</td>\n",
       "    </tr>\n",
       "    <tr>\n",
       "      <th>d</th>\n",
       "      <td>18</td>\n",
       "      <td>19</td>\n",
       "      <td>20</td>\n",
       "      <td>21</td>\n",
       "      <td>22</td>\n",
       "      <td>23</td>\n",
       "    </tr>\n",
       "    <tr>\n",
       "      <th>e</th>\n",
       "      <td>24</td>\n",
       "      <td>25</td>\n",
       "      <td>26</td>\n",
       "      <td>27</td>\n",
       "      <td>28</td>\n",
       "      <td>29</td>\n",
       "    </tr>\n",
       "  </tbody>\n",
       "</table>\n",
       "</div>"
      ],
      "text/plain": [
       "    A   B   C   D   E   F\n",
       "a   0   1   2   3   4   5\n",
       "b   6   7   8   9  10  11\n",
       "c  12  13  14  15  16  17\n",
       "d  18  19  20  21  22  23\n",
       "e  24  25  26  27  28  29"
      ]
     },
     "execution_count": 11,
     "metadata": {},
     "output_type": "execute_result"
    }
   ],
   "source": [
    "df1"
   ]
  },
  {
   "cell_type": "code",
   "execution_count": null,
   "id": "9ede78d3",
   "metadata": {},
   "outputs": [],
   "source": []
  },
  {
   "cell_type": "code",
   "execution_count": 13,
   "id": "c6e11f4b",
   "metadata": {},
   "outputs": [],
   "source": [
    "import datedays"
   ]
  },
  {
   "cell_type": "code",
   "execution_count": 14,
   "id": "528a8b92",
   "metadata": {},
   "outputs": [
    {
     "data": {
      "text/plain": [
       "'2023-03-14 20:24:33'"
      ]
     },
     "execution_count": 14,
     "metadata": {},
     "output_type": "execute_result"
    }
   ],
   "source": [
    "datedays.getnow()"
   ]
  },
  {
   "cell_type": "code",
   "execution_count": 15,
   "id": "d5c370bf",
   "metadata": {},
   "outputs": [
    {
     "data": {
      "text/plain": [
       "['2023-03-14',\n",
       " '2023-03-15',\n",
       " '2023-03-16',\n",
       " '2023-03-17',\n",
       " '2023-03-18',\n",
       " '2023-03-19',\n",
       " '2023-03-20',\n",
       " '2023-03-21',\n",
       " '2023-03-22',\n",
       " '2023-03-23',\n",
       " '2023-03-24',\n",
       " '2023-03-25',\n",
       " '2023-03-26',\n",
       " '2023-03-27',\n",
       " '2023-03-28',\n",
       " '2023-03-29',\n",
       " '2023-03-30',\n",
       " '2023-03-31']"
      ]
     },
     "execution_count": 15,
     "metadata": {},
     "output_type": "execute_result"
    }
   ],
   "source": [
    "datedays.gettodaydays()"
   ]
  },
  {
   "cell_type": "code",
   "execution_count": 16,
   "id": "e148112c",
   "metadata": {},
   "outputs": [
    {
     "data": {
      "text/plain": [
       "['2023-04-01',\n",
       " '2023-04-02',\n",
       " '2023-04-03',\n",
       " '2023-04-04',\n",
       " '2023-04-05',\n",
       " '2023-04-06',\n",
       " '2023-04-07',\n",
       " '2023-04-08',\n",
       " '2023-04-09',\n",
       " '2023-04-10',\n",
       " '2023-04-11',\n",
       " '2023-04-12',\n",
       " '2023-04-13',\n",
       " '2023-04-14',\n",
       " '2023-04-15',\n",
       " '2023-04-16',\n",
       " '2023-04-17',\n",
       " '2023-04-18',\n",
       " '2023-04-19',\n",
       " '2023-04-20',\n",
       " '2023-04-21',\n",
       " '2023-04-22',\n",
       " '2023-04-23',\n",
       " '2023-04-24',\n",
       " '2023-04-25',\n",
       " '2023-04-26',\n",
       " '2023-04-27',\n",
       " '2023-04-28',\n",
       " '2023-04-29',\n",
       " '2023-04-30']"
      ]
     },
     "execution_count": 16,
     "metadata": {},
     "output_type": "execute_result"
    }
   ],
   "source": [
    "datedays.getnextdays()"
   ]
  },
  {
   "cell_type": "code",
   "execution_count": 69,
   "id": "aea7f507",
   "metadata": {},
   "outputs": [
    {
     "data": {
      "text/plain": [
       "['2023-03-15']"
      ]
     },
     "execution_count": 69,
     "metadata": {},
     "output_type": "execute_result"
    }
   ],
   "source": [
    "datedays.getdays()[1:2]"
   ]
  },
  {
   "cell_type": "code",
   "execution_count": 18,
   "id": "345c8b0f",
   "metadata": {},
   "outputs": [
    {
     "data": {
      "text/plain": [
       "['2023-03-15',\n",
       " '2023-03-16',\n",
       " '2023-03-17',\n",
       " '2023-03-18',\n",
       " '2023-03-19',\n",
       " '2023-03-20',\n",
       " '2023-03-21',\n",
       " '2023-03-22',\n",
       " '2023-03-23',\n",
       " '2023-03-24',\n",
       " '2023-03-25',\n",
       " '2023-03-26',\n",
       " '2023-03-27',\n",
       " '2023-03-28',\n",
       " '2023-03-29']"
      ]
     },
     "execution_count": 18,
     "metadata": {},
     "output_type": "execute_result"
    }
   ],
   "source": [
    "datedays.getdays()[1:16]"
   ]
  },
  {
   "cell_type": "code",
   "execution_count": 21,
   "id": "0e561bc8",
   "metadata": {},
   "outputs": [
    {
     "data": {
      "text/plain": [
       "['2032-02-01',\n",
       " '2032-02-02',\n",
       " '2032-02-03',\n",
       " '2032-02-04',\n",
       " '2032-02-05',\n",
       " '2032-02-06',\n",
       " '2032-02-07',\n",
       " '2032-02-08',\n",
       " '2032-02-09',\n",
       " '2032-02-10',\n",
       " '2032-02-11',\n",
       " '2032-02-12',\n",
       " '2032-02-13',\n",
       " '2032-02-14',\n",
       " '2032-02-15',\n",
       " '2032-02-16',\n",
       " '2032-02-17',\n",
       " '2032-02-18',\n",
       " '2032-02-19',\n",
       " '2032-02-20',\n",
       " '2032-02-21',\n",
       " '2032-02-22',\n",
       " '2032-02-23',\n",
       " '2032-02-24',\n",
       " '2032-02-25',\n",
       " '2032-02-26',\n",
       " '2032-02-27',\n",
       " '2032-02-28',\n",
       " '2032-02-29']"
      ]
     },
     "execution_count": 21,
     "metadata": {},
     "output_type": "execute_result"
    }
   ],
   "source": [
    "datedays.gettodaydays(today='2032-02-01')"
   ]
  },
  {
   "cell_type": "code",
   "execution_count": 22,
   "id": "35745eb3",
   "metadata": {},
   "outputs": [
    {
     "data": {
      "text/plain": [
       "['2022-08-01',\n",
       " '2022-08-02',\n",
       " '2022-08-03',\n",
       " '2022-08-04',\n",
       " '2022-08-05',\n",
       " '2022-08-06',\n",
       " '2022-08-07']"
      ]
     },
     "execution_count": 22,
     "metadata": {},
     "output_type": "execute_result"
    }
   ],
   "source": [
    "datedays.getstartend(start_date='2022-08-01', end_date='2022-08-07', list_=True)"
   ]
  },
  {
   "cell_type": "code",
   "execution_count": 75,
   "id": "3ecf05cb",
   "metadata": {},
   "outputs": [],
   "source": [
    "df2 = pd.DataFrame({'fund_code': ['SCK841' for _ in range(8)], \n",
    "                    'c_sec_code': ['dtgt01', 'dqsy02', 'dmnn03', 'dtgt01', 'dqsy02', 'dmnn03', 'dtgt01', 'dqsy02'], \n",
    "                    'c_pos_name': ['大唐钢铁', '大清石油', '大明牛奶', '大唐钢铁', '大清石油', '大明牛奶', '大唐钢铁', '大清石油'], \n",
    "                   'd_date': [datedays.getdays()[1:2][0], datedays.getdays()[1:2][0], datedays.getdays()[1:2][0], \n",
    "                              datedays.getdays()[2:3][0], datedays.getdays()[2:3][0], datedays.getdays()[2:3][0],\n",
    "                              datedays.getdays()[3:4][0], datedays.getdays()[3:4][0]], \n",
    "                   'n_port_mv': [i * 1000000 for i in range(1, 9)]})"
   ]
  },
  {
   "cell_type": "code",
   "execution_count": 76,
   "id": "e983ca32",
   "metadata": {},
   "outputs": [
    {
     "data": {
      "text/html": [
       "<div>\n",
       "<style scoped>\n",
       "    .dataframe tbody tr th:only-of-type {\n",
       "        vertical-align: middle;\n",
       "    }\n",
       "\n",
       "    .dataframe tbody tr th {\n",
       "        vertical-align: top;\n",
       "    }\n",
       "\n",
       "    .dataframe thead th {\n",
       "        text-align: right;\n",
       "    }\n",
       "</style>\n",
       "<table border=\"1\" class=\"dataframe\">\n",
       "  <thead>\n",
       "    <tr style=\"text-align: right;\">\n",
       "      <th></th>\n",
       "      <th>fund_code</th>\n",
       "      <th>c_sec_code</th>\n",
       "      <th>c_pos_name</th>\n",
       "      <th>d_date</th>\n",
       "      <th>n_port_mv</th>\n",
       "    </tr>\n",
       "  </thead>\n",
       "  <tbody>\n",
       "    <tr>\n",
       "      <th>0</th>\n",
       "      <td>SCK841</td>\n",
       "      <td>dtgt01</td>\n",
       "      <td>大唐钢铁</td>\n",
       "      <td>2023-03-15</td>\n",
       "      <td>1000000</td>\n",
       "    </tr>\n",
       "    <tr>\n",
       "      <th>1</th>\n",
       "      <td>SCK841</td>\n",
       "      <td>dqsy02</td>\n",
       "      <td>大清石油</td>\n",
       "      <td>2023-03-15</td>\n",
       "      <td>2000000</td>\n",
       "    </tr>\n",
       "    <tr>\n",
       "      <th>2</th>\n",
       "      <td>SCK841</td>\n",
       "      <td>dmnn03</td>\n",
       "      <td>大明牛奶</td>\n",
       "      <td>2023-03-15</td>\n",
       "      <td>3000000</td>\n",
       "    </tr>\n",
       "    <tr>\n",
       "      <th>3</th>\n",
       "      <td>SCK841</td>\n",
       "      <td>dtgt01</td>\n",
       "      <td>大唐钢铁</td>\n",
       "      <td>2023-03-16</td>\n",
       "      <td>4000000</td>\n",
       "    </tr>\n",
       "    <tr>\n",
       "      <th>4</th>\n",
       "      <td>SCK841</td>\n",
       "      <td>dqsy02</td>\n",
       "      <td>大清石油</td>\n",
       "      <td>2023-03-16</td>\n",
       "      <td>5000000</td>\n",
       "    </tr>\n",
       "    <tr>\n",
       "      <th>5</th>\n",
       "      <td>SCK841</td>\n",
       "      <td>dmnn03</td>\n",
       "      <td>大明牛奶</td>\n",
       "      <td>2023-03-16</td>\n",
       "      <td>6000000</td>\n",
       "    </tr>\n",
       "    <tr>\n",
       "      <th>6</th>\n",
       "      <td>SCK841</td>\n",
       "      <td>dtgt01</td>\n",
       "      <td>大唐钢铁</td>\n",
       "      <td>2023-03-17</td>\n",
       "      <td>7000000</td>\n",
       "    </tr>\n",
       "    <tr>\n",
       "      <th>7</th>\n",
       "      <td>SCK841</td>\n",
       "      <td>dqsy02</td>\n",
       "      <td>大清石油</td>\n",
       "      <td>2023-03-17</td>\n",
       "      <td>8000000</td>\n",
       "    </tr>\n",
       "  </tbody>\n",
       "</table>\n",
       "</div>"
      ],
      "text/plain": [
       "  fund_code c_sec_code c_pos_name      d_date  n_port_mv\n",
       "0    SCK841     dtgt01       大唐钢铁  2023-03-15    1000000\n",
       "1    SCK841     dqsy02       大清石油  2023-03-15    2000000\n",
       "2    SCK841     dmnn03       大明牛奶  2023-03-15    3000000\n",
       "3    SCK841     dtgt01       大唐钢铁  2023-03-16    4000000\n",
       "4    SCK841     dqsy02       大清石油  2023-03-16    5000000\n",
       "5    SCK841     dmnn03       大明牛奶  2023-03-16    6000000\n",
       "6    SCK841     dtgt01       大唐钢铁  2023-03-17    7000000\n",
       "7    SCK841     dqsy02       大清石油  2023-03-17    8000000"
      ]
     },
     "execution_count": 76,
     "metadata": {},
     "output_type": "execute_result"
    }
   ],
   "source": [
    "df2"
   ]
  },
  {
   "cell_type": "code",
   "execution_count": 85,
   "id": "b437c731",
   "metadata": {},
   "outputs": [],
   "source": [
    "df3 = pd.pivot(df2, index=['fund_code', 'c_sec_code', 'c_pos_name'], columns='d_date', values='n_port_mv')"
   ]
  },
  {
   "cell_type": "code",
   "execution_count": 86,
   "id": "d8bdb508",
   "metadata": {},
   "outputs": [
    {
     "data": {
      "text/html": [
       "<div>\n",
       "<style scoped>\n",
       "    .dataframe tbody tr th:only-of-type {\n",
       "        vertical-align: middle;\n",
       "    }\n",
       "\n",
       "    .dataframe tbody tr th {\n",
       "        vertical-align: top;\n",
       "    }\n",
       "\n",
       "    .dataframe thead th {\n",
       "        text-align: right;\n",
       "    }\n",
       "</style>\n",
       "<table border=\"1\" class=\"dataframe\">\n",
       "  <thead>\n",
       "    <tr style=\"text-align: right;\">\n",
       "      <th></th>\n",
       "      <th></th>\n",
       "      <th>d_date</th>\n",
       "      <th>2023-03-15</th>\n",
       "      <th>2023-03-16</th>\n",
       "      <th>2023-03-17</th>\n",
       "    </tr>\n",
       "    <tr>\n",
       "      <th>fund_code</th>\n",
       "      <th>c_sec_code</th>\n",
       "      <th>c_pos_name</th>\n",
       "      <th></th>\n",
       "      <th></th>\n",
       "      <th></th>\n",
       "    </tr>\n",
       "  </thead>\n",
       "  <tbody>\n",
       "    <tr>\n",
       "      <th rowspan=\"3\" valign=\"top\">SCK841</th>\n",
       "      <th>dmnn03</th>\n",
       "      <th>大明牛奶</th>\n",
       "      <td>3000000.0</td>\n",
       "      <td>6000000.0</td>\n",
       "      <td>NaN</td>\n",
       "    </tr>\n",
       "    <tr>\n",
       "      <th>dqsy02</th>\n",
       "      <th>大清石油</th>\n",
       "      <td>2000000.0</td>\n",
       "      <td>5000000.0</td>\n",
       "      <td>8000000.0</td>\n",
       "    </tr>\n",
       "    <tr>\n",
       "      <th>dtgt01</th>\n",
       "      <th>大唐钢铁</th>\n",
       "      <td>1000000.0</td>\n",
       "      <td>4000000.0</td>\n",
       "      <td>7000000.0</td>\n",
       "    </tr>\n",
       "  </tbody>\n",
       "</table>\n",
       "</div>"
      ],
      "text/plain": [
       "d_date                           2023-03-15  2023-03-16  2023-03-17\n",
       "fund_code c_sec_code c_pos_name                                    \n",
       "SCK841    dmnn03     大明牛奶         3000000.0   6000000.0         NaN\n",
       "          dqsy02     大清石油         2000000.0   5000000.0   8000000.0\n",
       "          dtgt01     大唐钢铁         1000000.0   4000000.0   7000000.0"
      ]
     },
     "execution_count": 86,
     "metadata": {},
     "output_type": "execute_result"
    }
   ],
   "source": [
    "df3"
   ]
  },
  {
   "cell_type": "code",
   "execution_count": 87,
   "id": "47b0cab3",
   "metadata": {},
   "outputs": [],
   "source": [
    "df4 = df3.reset_index()"
   ]
  },
  {
   "cell_type": "code",
   "execution_count": 88,
   "id": "031ee170",
   "metadata": {},
   "outputs": [
    {
     "data": {
      "text/html": [
       "<div>\n",
       "<style scoped>\n",
       "    .dataframe tbody tr th:only-of-type {\n",
       "        vertical-align: middle;\n",
       "    }\n",
       "\n",
       "    .dataframe tbody tr th {\n",
       "        vertical-align: top;\n",
       "    }\n",
       "\n",
       "    .dataframe thead th {\n",
       "        text-align: right;\n",
       "    }\n",
       "</style>\n",
       "<table border=\"1\" class=\"dataframe\">\n",
       "  <thead>\n",
       "    <tr style=\"text-align: right;\">\n",
       "      <th>d_date</th>\n",
       "      <th>fund_code</th>\n",
       "      <th>c_sec_code</th>\n",
       "      <th>c_pos_name</th>\n",
       "      <th>2023-03-15</th>\n",
       "      <th>2023-03-16</th>\n",
       "      <th>2023-03-17</th>\n",
       "    </tr>\n",
       "  </thead>\n",
       "  <tbody>\n",
       "    <tr>\n",
       "      <th>0</th>\n",
       "      <td>SCK841</td>\n",
       "      <td>dmnn03</td>\n",
       "      <td>大明牛奶</td>\n",
       "      <td>3000000.0</td>\n",
       "      <td>6000000.0</td>\n",
       "      <td>--</td>\n",
       "    </tr>\n",
       "    <tr>\n",
       "      <th>1</th>\n",
       "      <td>SCK841</td>\n",
       "      <td>dqsy02</td>\n",
       "      <td>大清石油</td>\n",
       "      <td>2000000.0</td>\n",
       "      <td>5000000.0</td>\n",
       "      <td>8000000.0</td>\n",
       "    </tr>\n",
       "    <tr>\n",
       "      <th>2</th>\n",
       "      <td>SCK841</td>\n",
       "      <td>dtgt01</td>\n",
       "      <td>大唐钢铁</td>\n",
       "      <td>1000000.0</td>\n",
       "      <td>4000000.0</td>\n",
       "      <td>7000000.0</td>\n",
       "    </tr>\n",
       "  </tbody>\n",
       "</table>\n",
       "</div>"
      ],
      "text/plain": [
       "d_date fund_code c_sec_code c_pos_name  2023-03-15  2023-03-16 2023-03-17\n",
       "0         SCK841     dmnn03       大明牛奶   3000000.0   6000000.0         --\n",
       "1         SCK841     dqsy02       大清石油   2000000.0   5000000.0  8000000.0\n",
       "2         SCK841     dtgt01       大唐钢铁   1000000.0   4000000.0  7000000.0"
      ]
     },
     "execution_count": 88,
     "metadata": {},
     "output_type": "execute_result"
    }
   ],
   "source": [
    "df4.fillna('--')"
   ]
  },
  {
   "cell_type": "code",
   "execution_count": null,
   "id": "919c4473",
   "metadata": {},
   "outputs": [],
   "source": []
  },
  {
   "cell_type": "code",
   "execution_count": 89,
   "id": "02a884bb",
   "metadata": {},
   "outputs": [],
   "source": [
    "df5 = pd.melt(df4, id_vars=['fund_code', 'c_pos_name', 'c_sec_code'], value_vars=df4.columns[2:])"
   ]
  },
  {
   "cell_type": "code",
   "execution_count": 90,
   "id": "bfca931b",
   "metadata": {},
   "outputs": [],
   "source": [
    "df6 = df5.dropna(axis=0, how='any')"
   ]
  },
  {
   "cell_type": "code",
   "execution_count": 91,
   "id": "cca852db",
   "metadata": {},
   "outputs": [],
   "source": [
    "df7 = df6.reset_index(drop=True)"
   ]
  },
  {
   "cell_type": "code",
   "execution_count": 92,
   "id": "22171173",
   "metadata": {},
   "outputs": [
    {
     "data": {
      "text/html": [
       "<div>\n",
       "<style scoped>\n",
       "    .dataframe tbody tr th:only-of-type {\n",
       "        vertical-align: middle;\n",
       "    }\n",
       "\n",
       "    .dataframe tbody tr th {\n",
       "        vertical-align: top;\n",
       "    }\n",
       "\n",
       "    .dataframe thead th {\n",
       "        text-align: right;\n",
       "    }\n",
       "</style>\n",
       "<table border=\"1\" class=\"dataframe\">\n",
       "  <thead>\n",
       "    <tr style=\"text-align: right;\">\n",
       "      <th></th>\n",
       "      <th>fund_code</th>\n",
       "      <th>c_pos_name</th>\n",
       "      <th>c_sec_code</th>\n",
       "      <th>d_date</th>\n",
       "      <th>value</th>\n",
       "    </tr>\n",
       "  </thead>\n",
       "  <tbody>\n",
       "    <tr>\n",
       "      <th>0</th>\n",
       "      <td>SCK841</td>\n",
       "      <td>大明牛奶</td>\n",
       "      <td>dmnn03</td>\n",
       "      <td>2023-03-15</td>\n",
       "      <td>3000000.0</td>\n",
       "    </tr>\n",
       "    <tr>\n",
       "      <th>1</th>\n",
       "      <td>SCK841</td>\n",
       "      <td>大清石油</td>\n",
       "      <td>dqsy02</td>\n",
       "      <td>2023-03-15</td>\n",
       "      <td>2000000.0</td>\n",
       "    </tr>\n",
       "    <tr>\n",
       "      <th>2</th>\n",
       "      <td>SCK841</td>\n",
       "      <td>大唐钢铁</td>\n",
       "      <td>dtgt01</td>\n",
       "      <td>2023-03-15</td>\n",
       "      <td>1000000.0</td>\n",
       "    </tr>\n",
       "    <tr>\n",
       "      <th>3</th>\n",
       "      <td>SCK841</td>\n",
       "      <td>大明牛奶</td>\n",
       "      <td>dmnn03</td>\n",
       "      <td>2023-03-16</td>\n",
       "      <td>6000000.0</td>\n",
       "    </tr>\n",
       "    <tr>\n",
       "      <th>4</th>\n",
       "      <td>SCK841</td>\n",
       "      <td>大清石油</td>\n",
       "      <td>dqsy02</td>\n",
       "      <td>2023-03-16</td>\n",
       "      <td>5000000.0</td>\n",
       "    </tr>\n",
       "    <tr>\n",
       "      <th>5</th>\n",
       "      <td>SCK841</td>\n",
       "      <td>大唐钢铁</td>\n",
       "      <td>dtgt01</td>\n",
       "      <td>2023-03-16</td>\n",
       "      <td>4000000.0</td>\n",
       "    </tr>\n",
       "    <tr>\n",
       "      <th>6</th>\n",
       "      <td>SCK841</td>\n",
       "      <td>大清石油</td>\n",
       "      <td>dqsy02</td>\n",
       "      <td>2023-03-17</td>\n",
       "      <td>8000000.0</td>\n",
       "    </tr>\n",
       "    <tr>\n",
       "      <th>7</th>\n",
       "      <td>SCK841</td>\n",
       "      <td>大唐钢铁</td>\n",
       "      <td>dtgt01</td>\n",
       "      <td>2023-03-17</td>\n",
       "      <td>7000000.0</td>\n",
       "    </tr>\n",
       "  </tbody>\n",
       "</table>\n",
       "</div>"
      ],
      "text/plain": [
       "  fund_code c_pos_name c_sec_code      d_date      value\n",
       "0    SCK841       大明牛奶     dmnn03  2023-03-15  3000000.0\n",
       "1    SCK841       大清石油     dqsy02  2023-03-15  2000000.0\n",
       "2    SCK841       大唐钢铁     dtgt01  2023-03-15  1000000.0\n",
       "3    SCK841       大明牛奶     dmnn03  2023-03-16  6000000.0\n",
       "4    SCK841       大清石油     dqsy02  2023-03-16  5000000.0\n",
       "5    SCK841       大唐钢铁     dtgt01  2023-03-16  4000000.0\n",
       "6    SCK841       大清石油     dqsy02  2023-03-17  8000000.0\n",
       "7    SCK841       大唐钢铁     dtgt01  2023-03-17  7000000.0"
      ]
     },
     "execution_count": 92,
     "metadata": {},
     "output_type": "execute_result"
    }
   ],
   "source": [
    "df7"
   ]
  },
  {
   "cell_type": "code",
   "execution_count": 105,
   "id": "7436c2a0",
   "metadata": {},
   "outputs": [
    {
     "data": {
      "text/html": [
       "<div>\n",
       "<style scoped>\n",
       "    .dataframe tbody tr th:only-of-type {\n",
       "        vertical-align: middle;\n",
       "    }\n",
       "\n",
       "    .dataframe tbody tr th {\n",
       "        vertical-align: top;\n",
       "    }\n",
       "\n",
       "    .dataframe thead th {\n",
       "        text-align: right;\n",
       "    }\n",
       "</style>\n",
       "<table border=\"1\" class=\"dataframe\">\n",
       "  <thead>\n",
       "    <tr style=\"text-align: right;\">\n",
       "      <th></th>\n",
       "      <th>value</th>\n",
       "    </tr>\n",
       "    <tr>\n",
       "      <th>d_date</th>\n",
       "      <th></th>\n",
       "    </tr>\n",
       "  </thead>\n",
       "  <tbody>\n",
       "    <tr>\n",
       "      <th>2023-03-15</th>\n",
       "      <td>2000000.0</td>\n",
       "    </tr>\n",
       "    <tr>\n",
       "      <th>2023-03-16</th>\n",
       "      <td>5000000.0</td>\n",
       "    </tr>\n",
       "    <tr>\n",
       "      <th>2023-03-17</th>\n",
       "      <td>7500000.0</td>\n",
       "    </tr>\n",
       "  </tbody>\n",
       "</table>\n",
       "</div>"
      ],
      "text/plain": [
       "                value\n",
       "d_date               \n",
       "2023-03-15  2000000.0\n",
       "2023-03-16  5000000.0\n",
       "2023-03-17  7500000.0"
      ]
     },
     "execution_count": 105,
     "metadata": {},
     "output_type": "execute_result"
    }
   ],
   "source": [
    "df7.groupby('d_date').mean()"
   ]
  },
  {
   "cell_type": "code",
   "execution_count": 97,
   "id": "8a5bbb85",
   "metadata": {},
   "outputs": [
    {
     "data": {
      "text/html": [
       "<div>\n",
       "<style scoped>\n",
       "    .dataframe tbody tr th:only-of-type {\n",
       "        vertical-align: middle;\n",
       "    }\n",
       "\n",
       "    .dataframe tbody tr th {\n",
       "        vertical-align: top;\n",
       "    }\n",
       "\n",
       "    .dataframe thead th {\n",
       "        text-align: right;\n",
       "    }\n",
       "</style>\n",
       "<table border=\"1\" class=\"dataframe\">\n",
       "  <thead>\n",
       "    <tr style=\"text-align: right;\">\n",
       "      <th></th>\n",
       "      <th>fund_code</th>\n",
       "      <th>c_pos_name</th>\n",
       "      <th>c_sec_code</th>\n",
       "      <th>d_date</th>\n",
       "      <th>value</th>\n",
       "    </tr>\n",
       "  </thead>\n",
       "  <tbody>\n",
       "    <tr>\n",
       "      <th>0</th>\n",
       "      <td>SCK841</td>\n",
       "      <td>大明牛奶</td>\n",
       "      <td>dmnn03</td>\n",
       "      <td>2023-03-15</td>\n",
       "      <td>3000000.0</td>\n",
       "    </tr>\n",
       "    <tr>\n",
       "      <th>1</th>\n",
       "      <td>SCK841</td>\n",
       "      <td>大清石油</td>\n",
       "      <td>dqsy02</td>\n",
       "      <td>2023-03-15</td>\n",
       "      <td>2000000.0</td>\n",
       "    </tr>\n",
       "    <tr>\n",
       "      <th>2</th>\n",
       "      <td>SCK841</td>\n",
       "      <td>大唐钢铁</td>\n",
       "      <td>dtgt01</td>\n",
       "      <td>2023-03-15</td>\n",
       "      <td>1000000.0</td>\n",
       "    </tr>\n",
       "    <tr>\n",
       "      <th>3</th>\n",
       "      <td>SCK841</td>\n",
       "      <td>大明牛奶</td>\n",
       "      <td>dmnn03</td>\n",
       "      <td>2023-03-16</td>\n",
       "      <td>6000000.0</td>\n",
       "    </tr>\n",
       "    <tr>\n",
       "      <th>4</th>\n",
       "      <td>SCK841</td>\n",
       "      <td>大清石油</td>\n",
       "      <td>dqsy02</td>\n",
       "      <td>2023-03-16</td>\n",
       "      <td>5000000.0</td>\n",
       "    </tr>\n",
       "    <tr>\n",
       "      <th>5</th>\n",
       "      <td>SCK841</td>\n",
       "      <td>大唐钢铁</td>\n",
       "      <td>dtgt01</td>\n",
       "      <td>2023-03-16</td>\n",
       "      <td>4000000.0</td>\n",
       "    </tr>\n",
       "    <tr>\n",
       "      <th>6</th>\n",
       "      <td>SCK841</td>\n",
       "      <td>大清石油</td>\n",
       "      <td>dqsy02</td>\n",
       "      <td>2023-03-17</td>\n",
       "      <td>8000000.0</td>\n",
       "    </tr>\n",
       "    <tr>\n",
       "      <th>7</th>\n",
       "      <td>SCK841</td>\n",
       "      <td>大唐钢铁</td>\n",
       "      <td>dtgt01</td>\n",
       "      <td>2023-03-17</td>\n",
       "      <td>7000000.0</td>\n",
       "    </tr>\n",
       "  </tbody>\n",
       "</table>\n",
       "</div>"
      ],
      "text/plain": [
       "  fund_code c_pos_name c_sec_code      d_date      value\n",
       "0    SCK841       大明牛奶     dmnn03  2023-03-15  3000000.0\n",
       "1    SCK841       大清石油     dqsy02  2023-03-15  2000000.0\n",
       "2    SCK841       大唐钢铁     dtgt01  2023-03-15  1000000.0\n",
       "3    SCK841       大明牛奶     dmnn03  2023-03-16  6000000.0\n",
       "4    SCK841       大清石油     dqsy02  2023-03-16  5000000.0\n",
       "5    SCK841       大唐钢铁     dtgt01  2023-03-16  4000000.0\n",
       "6    SCK841       大清石油     dqsy02  2023-03-17  8000000.0\n",
       "7    SCK841       大唐钢铁     dtgt01  2023-03-17  7000000.0"
      ]
     },
     "execution_count": 97,
     "metadata": {},
     "output_type": "execute_result"
    }
   ],
   "source": [
    "df7"
   ]
  },
  {
   "cell_type": "code",
   "execution_count": 101,
   "id": "7056fb5c",
   "metadata": {},
   "outputs": [
    {
     "data": {
      "text/html": [
       "<div>\n",
       "<style scoped>\n",
       "    .dataframe tbody tr th:only-of-type {\n",
       "        vertical-align: middle;\n",
       "    }\n",
       "\n",
       "    .dataframe tbody tr th {\n",
       "        vertical-align: top;\n",
       "    }\n",
       "\n",
       "    .dataframe thead th {\n",
       "        text-align: right;\n",
       "    }\n",
       "</style>\n",
       "<table border=\"1\" class=\"dataframe\">\n",
       "  <thead>\n",
       "    <tr style=\"text-align: right;\">\n",
       "      <th>c_pos_name</th>\n",
       "      <th>大唐钢铁</th>\n",
       "      <th>大明牛奶</th>\n",
       "      <th>大清石油</th>\n",
       "    </tr>\n",
       "    <tr>\n",
       "      <th>d_date</th>\n",
       "      <th></th>\n",
       "      <th></th>\n",
       "      <th></th>\n",
       "    </tr>\n",
       "  </thead>\n",
       "  <tbody>\n",
       "    <tr>\n",
       "      <th>2023-03-15</th>\n",
       "      <td>1000000.0</td>\n",
       "      <td>3000000.0</td>\n",
       "      <td>2000000.0</td>\n",
       "    </tr>\n",
       "    <tr>\n",
       "      <th>2023-03-16</th>\n",
       "      <td>4000000.0</td>\n",
       "      <td>6000000.0</td>\n",
       "      <td>5000000.0</td>\n",
       "    </tr>\n",
       "    <tr>\n",
       "      <th>2023-03-17</th>\n",
       "      <td>7000000.0</td>\n",
       "      <td>NaN</td>\n",
       "      <td>8000000.0</td>\n",
       "    </tr>\n",
       "  </tbody>\n",
       "</table>\n",
       "</div>"
      ],
      "text/plain": [
       "c_pos_name       大唐钢铁       大明牛奶       大清石油\n",
       "d_date                                     \n",
       "2023-03-15  1000000.0  3000000.0  2000000.0\n",
       "2023-03-16  4000000.0  6000000.0  5000000.0\n",
       "2023-03-17  7000000.0        NaN  8000000.0"
      ]
     },
     "execution_count": 101,
     "metadata": {},
     "output_type": "execute_result"
    }
   ],
   "source": [
    "pd.pivot_table(df7, index='d_date', columns='c_pos_name', values='value')"
   ]
  },
  {
   "cell_type": "code",
   "execution_count": 107,
   "id": "98cc101e",
   "metadata": {},
   "outputs": [
    {
     "data": {
      "text/html": [
       "<div>\n",
       "<style scoped>\n",
       "    .dataframe tbody tr th:only-of-type {\n",
       "        vertical-align: middle;\n",
       "    }\n",
       "\n",
       "    .dataframe tbody tr th {\n",
       "        vertical-align: top;\n",
       "    }\n",
       "\n",
       "    .dataframe thead th {\n",
       "        text-align: right;\n",
       "    }\n",
       "</style>\n",
       "<table border=\"1\" class=\"dataframe\">\n",
       "  <thead>\n",
       "    <tr style=\"text-align: right;\">\n",
       "      <th>d_date</th>\n",
       "      <th>2023-03-15</th>\n",
       "      <th>2023-03-16</th>\n",
       "      <th>2023-03-17</th>\n",
       "    </tr>\n",
       "    <tr>\n",
       "      <th>fund_code</th>\n",
       "      <th></th>\n",
       "      <th></th>\n",
       "      <th></th>\n",
       "    </tr>\n",
       "  </thead>\n",
       "  <tbody>\n",
       "    <tr>\n",
       "      <th>SCK841</th>\n",
       "      <td>2000000.0</td>\n",
       "      <td>5000000.0</td>\n",
       "      <td>7500000.0</td>\n",
       "    </tr>\n",
       "  </tbody>\n",
       "</table>\n",
       "</div>"
      ],
      "text/plain": [
       "d_date     2023-03-15  2023-03-16  2023-03-17\n",
       "fund_code                                    \n",
       "SCK841      2000000.0   5000000.0   7500000.0"
      ]
     },
     "execution_count": 107,
     "metadata": {},
     "output_type": "execute_result"
    }
   ],
   "source": [
    "df7.pivot_table(values='value', index='fund_code', columns='d_date')"
   ]
  },
  {
   "cell_type": "code",
   "execution_count": 110,
   "id": "a8d659dd",
   "metadata": {},
   "outputs": [
    {
     "data": {
      "text/html": [
       "<div>\n",
       "<style scoped>\n",
       "    .dataframe tbody tr th:only-of-type {\n",
       "        vertical-align: middle;\n",
       "    }\n",
       "\n",
       "    .dataframe tbody tr th {\n",
       "        vertical-align: top;\n",
       "    }\n",
       "\n",
       "    .dataframe thead th {\n",
       "        text-align: right;\n",
       "    }\n",
       "</style>\n",
       "<table border=\"1\" class=\"dataframe\">\n",
       "  <thead>\n",
       "    <tr style=\"text-align: right;\">\n",
       "      <th>d_date</th>\n",
       "      <th>2023-03-15</th>\n",
       "      <th>2023-03-16</th>\n",
       "      <th>2023-03-17</th>\n",
       "    </tr>\n",
       "    <tr>\n",
       "      <th>fund_code</th>\n",
       "      <th></th>\n",
       "      <th></th>\n",
       "      <th></th>\n",
       "    </tr>\n",
       "  </thead>\n",
       "  <tbody>\n",
       "    <tr>\n",
       "      <th>SCK841</th>\n",
       "      <td>6000000.0</td>\n",
       "      <td>15000000.0</td>\n",
       "      <td>15000000.0</td>\n",
       "    </tr>\n",
       "  </tbody>\n",
       "</table>\n",
       "</div>"
      ],
      "text/plain": [
       "d_date     2023-03-15  2023-03-16  2023-03-17\n",
       "fund_code                                    \n",
       "SCK841      6000000.0  15000000.0  15000000.0"
      ]
     },
     "execution_count": 110,
     "metadata": {},
     "output_type": "execute_result"
    }
   ],
   "source": [
    "df7.pivot_table(values='value', index='fund_code', columns='d_date', aggfunc=np.sum)"
   ]
  },
  {
   "cell_type": "code",
   "execution_count": 113,
   "id": "63148a82",
   "metadata": {},
   "outputs": [
    {
     "data": {
      "text/html": [
       "<div>\n",
       "<style scoped>\n",
       "    .dataframe tbody tr th:only-of-type {\n",
       "        vertical-align: middle;\n",
       "    }\n",
       "\n",
       "    .dataframe tbody tr th {\n",
       "        vertical-align: top;\n",
       "    }\n",
       "\n",
       "    .dataframe thead th {\n",
       "        text-align: right;\n",
       "    }\n",
       "</style>\n",
       "<table border=\"1\" class=\"dataframe\">\n",
       "  <thead>\n",
       "    <tr style=\"text-align: right;\">\n",
       "      <th>d_date</th>\n",
       "      <th>2023-03-15</th>\n",
       "      <th>2023-03-16</th>\n",
       "      <th>2023-03-17</th>\n",
       "      <th>All</th>\n",
       "    </tr>\n",
       "    <tr>\n",
       "      <th>fund_code</th>\n",
       "      <th></th>\n",
       "      <th></th>\n",
       "      <th></th>\n",
       "      <th></th>\n",
       "    </tr>\n",
       "  </thead>\n",
       "  <tbody>\n",
       "    <tr>\n",
       "      <th>SCK841</th>\n",
       "      <td>6000000.0</td>\n",
       "      <td>15000000.0</td>\n",
       "      <td>15000000.0</td>\n",
       "      <td>36000000.0</td>\n",
       "    </tr>\n",
       "    <tr>\n",
       "      <th>All</th>\n",
       "      <td>6000000.0</td>\n",
       "      <td>15000000.0</td>\n",
       "      <td>15000000.0</td>\n",
       "      <td>36000000.0</td>\n",
       "    </tr>\n",
       "  </tbody>\n",
       "</table>\n",
       "</div>"
      ],
      "text/plain": [
       "d_date     2023-03-15  2023-03-16  2023-03-17         All\n",
       "fund_code                                                \n",
       "SCK841      6000000.0  15000000.0  15000000.0  36000000.0\n",
       "All         6000000.0  15000000.0  15000000.0  36000000.0"
      ]
     },
     "execution_count": 113,
     "metadata": {},
     "output_type": "execute_result"
    }
   ],
   "source": [
    "pd.pivot_table(df7, values='value', index='fund_code', columns='d_date', aggfunc=np.sum, margins=True)"
   ]
  },
  {
   "cell_type": "code",
   "execution_count": null,
   "id": "56e688ac",
   "metadata": {},
   "outputs": [],
   "source": []
  }
 ],
 "metadata": {
  "kernelspec": {
   "display_name": "Python 3 (ipykernel)",
   "language": "python",
   "name": "python3"
  },
  "language_info": {
   "codemirror_mode": {
    "name": "ipython",
    "version": 3
   },
   "file_extension": ".py",
   "mimetype": "text/x-python",
   "name": "python",
   "nbconvert_exporter": "python",
   "pygments_lexer": "ipython3",
   "version": "3.9.7"
  }
 },
 "nbformat": 4,
 "nbformat_minor": 5
}
